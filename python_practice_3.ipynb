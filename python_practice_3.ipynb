{
  "cells": [
    {
      "cell_type": "markdown",
      "metadata": {
        "id": "qDEi2Pi-4yUC"
      },
      "source": [
        "# I. Оператори порівняння та логічні оператори. Умови."
      ]
    },
    {
      "cell_type": "markdown",
      "metadata": {
        "id": "3v8D4Dkm43Ua"
      },
      "source": [
        "1. Створіть цілочисленну змінну зі своїм щасливим або улюбленим числом. Напишіть код, який би автоматизовував наступну задачу.\n",
        "\n",
        "Якщо число парне, помножте його на 2 та виведіть результат на екран.\n",
        "\n",
        "Але якщо число непарне, помножте його на 3 та додайте 1 і виведіть на екран."
      ]
    },
    {
      "cell_type": "code",
      "execution_count": 6,
      "metadata": {
        "id": "dlVjc-Nu4bmb"
      },
      "outputs": [
        {
          "name": "stdout",
          "output_type": "stream",
          "text": [
            "84\n"
          ]
        }
      ],
      "source": [
        "my_num = 42\n",
        "\n",
        "if my_num % 2 == 0:\n",
        "    my_num *= 2\n",
        "else:\n",
        "    my_num = my_num * 3 + 1\n",
        "\n",
        "print(my_num)"
      ]
    },
    {
      "cell_type": "markdown",
      "metadata": {
        "id": "H669P0QK5BI_"
      },
      "source": [
        "2. Створіть змінну, що посилається на список. Якщо список пустий, додайте будь-який елемент у кінець списку. Якщо ж ні, то нічого не робіть."
      ]
    },
    {
      "cell_type": "code",
      "execution_count": 5,
      "metadata": {
        "id": "ecWlfra45f6E"
      },
      "outputs": [],
      "source": [
        "lst = []\n",
        "\n",
        "if not lst:\n",
        "    lst.append(1)\n"
      ]
    },
    {
      "cell_type": "markdown",
      "metadata": {
        "id": "h9Y3cMUd5h85"
      },
      "source": [
        "3. Створіть рядок зі своїм імʼям латинкою. Напишіть код, який би автоматизовував наступну задачу.\n",
        "\n",
        "Якщо в імені є літера \"а\"\n",
        " або \"i\", Виведіть на екран повідомлення \"A or I is in the name\".\n",
        "\n",
        "\n",
        "\n",
        "Якщо в імені є літери \"o\" та \"n\", Виведіть на екран повідомлення \"O and N is in the name\".\n",
        "\n",
        "Також якщо в імені немає літери \"о\", але є \"n\", Виведіть на екран повідомлення \"Only N is in the name\".\n",
        "\n",
        "В решті випадків виведіть на екран повідомлення \"There is no N in the name, but there might be O\".\n",
        "\n",
        "Зверніть увагу, що, наприклад, для імені \"Antonina\" буде виведено два повідомлення."
      ]
    },
    {
      "cell_type": "code",
      "execution_count": 12,
      "metadata": {
        "id": "bUH4LUx35u52"
      },
      "outputs": [
        {
          "name": "stdout",
          "output_type": "stream",
          "text": [
            "There is no N in the name, but there might be O\n"
          ]
        }
      ],
      "source": [
        "name = \"Oleh\"\n",
        "name_lower = name.lower()\n",
        "\n",
        "if 'a' in name_lower or 'i' in name_lower:\n",
        "    print('A or I is in the name')\n",
        "\n",
        "if 'o' in name_lower and 'n' in name_lower:\n",
        "    print('O and N is in the name')\n",
        "elif 'o' not in name_lower and 'n' in name_lower:\n",
        "    print('Only N is in the name')\n",
        "else:\n",
        "    print('There is no N in the name, but there might be O')\n"
      ]
    },
    {
      "cell_type": "markdown",
      "metadata": {
        "id": "wPCXJv4354cU"
      },
      "source": [
        "# II. Comprehensions."
      ]
    },
    {
      "cell_type": "markdown",
      "metadata": {
        "id": "jULLW5jN55Pw"
      },
      "source": [
        "4. Створіть список, використовуючи if (не if-else), range та comprehension."
      ]
    },
    {
      "cell_type": "code",
      "execution_count": 13,
      "metadata": {
        "id": "mlZalnVC6W3F"
      },
      "outputs": [
        {
          "name": "stdout",
          "output_type": "stream",
          "text": [
            "[0, 2, 4, 6, 8]\n"
          ]
        }
      ],
      "source": [
        "even_numbers = [x for x in range(10) if x % 2 == 0]\n",
        "print(even_numbers)"
      ]
    },
    {
      "cell_type": "markdown",
      "metadata": {
        "id": "LqhEQ4JW6XcC"
      },
      "source": [
        "5. Створіть словник, використовуючи dict comprehension, що містить if else. Коли слід використовувати comprehensions, а коли їх слід уникати?"
      ]
    },
    {
      "cell_type": "code",
      "execution_count": 15,
      "metadata": {
        "id": "1yVaFbOs6hta"
      },
      "outputs": [
        {
          "name": "stdout",
          "output_type": "stream",
          "text": [
            "{0: 1, 1: 0, 2: 1, 3: 0, 4: 1, 5: 0, 6: 1, 7: 0, 8: 1, 9: 0}\n"
          ]
        }
      ],
      "source": [
        "even_dict = {num: 1 if num % 2 == 0 else 0 for num in range(10)}\n",
        "print(even_dict)\n"
      ]
    },
    {
      "cell_type": "markdown",
      "metadata": {
        "id": "wbkzNhKq6hzz"
      },
      "source": [
        "Comprehensions варто використовувати для простої логіки, щоб скоротити кількість коду.\n",
        "Їх слід уникати, коли логіка занадто складна, і код стане нечитабельним у одному рядку.\n",
        "Також comprehensions можуть заповільнювати виконання коду і використовувати більше пам'яті, тому якщо це критично, варто уникати використання цих конструкцій"
      ]
    },
    {
      "cell_type": "markdown",
      "metadata": {
        "id": "ZlqB8G3G6lHP"
      },
      "source": [
        "6. Створіть список з рядками та запишіть його у змінну. Створіть ще один список на основі попереднього, де кожен рядок буде містити тільки три перших заглавних символи. Наприклад: ['hello', 'i', 'dont', 'care'] -> ['HEL', 'I', 'DON', 'CAR']. Використання comprehensions обовʼязкове."
      ]
    },
    {
      "cell_type": "code",
      "execution_count": 17,
      "metadata": {
        "id": "nw6rz0bR60VC"
      },
      "outputs": [
        {
          "name": "stdout",
          "output_type": "stream",
          "text": [
            "['A', 'AB', 'ABC', 'HEL']\n"
          ]
        }
      ],
      "source": [
        "old_list = ['', 'a', 'Ab', 'aBc', 'hello world']\n",
        "new_list = [x[:3].upper() for x in old_list if x]\n",
        "print(new_list)"
      ]
    },
    {
      "cell_type": "markdown",
      "metadata": {
        "id": "Tj573IAH64Fz"
      },
      "source": [
        "# III. Цикли."
      ]
    },
    {
      "cell_type": "markdown",
      "metadata": {
        "id": "tN_33xdE65H5"
      },
      "source": [
        "7. Продемонструйте роботу циклу while. Не можна використовувати True для запуску циклу, щоб уникнути безкінечного циклу!"
      ]
    },
    {
      "cell_type": "code",
      "execution_count": 18,
      "metadata": {
        "id": "Kd9FO6yG63P5"
      },
      "outputs": [
        {
          "name": "stdout",
          "output_type": "stream",
          "text": [
            "0\n",
            "1\n",
            "2\n",
            "3\n",
            "4\n",
            "5\n",
            "6\n",
            "7\n",
            "8\n",
            "9\n"
          ]
        }
      ],
      "source": [
        "x = 0\n",
        "while x < 10:\n",
        "    print(x)\n",
        "    x += 1"
      ]
    },
    {
      "cell_type": "markdown",
      "metadata": {
        "id": "x2CmfZO-7pW0"
      },
      "source": [
        "8. Напишіть програму, яка виведе на екран непарні числа в діапазоні від 0 до 20 включно."
      ]
    },
    {
      "cell_type": "code",
      "execution_count": 19,
      "metadata": {
        "id": "aCSRYA6s7tkF"
      },
      "outputs": [
        {
          "name": "stdout",
          "output_type": "stream",
          "text": [
            "1\n",
            "3\n",
            "5\n",
            "7\n",
            "9\n",
            "11\n",
            "13\n",
            "15\n",
            "17\n",
            "19\n"
          ]
        }
      ],
      "source": [
        "for i in range(21):\n",
        "    if i % 2 != 0:\n",
        "        print(i)"
      ]
    },
    {
      "cell_type": "markdown",
      "metadata": {
        "id": "MDWNocZD7t_B"
      },
      "source": [
        "9. Створіть список з елементами булевого типу або None. Використовуючи цикли, отримайте в результаті список з кортежами, де перший елемент кортежу - індекс(ціле число), а другий елемент - відповідне значення з першого списку.\n",
        "\n",
        "Наприклад, [True, True, None, False] -> [(0, True), (1, True), (2, None), (3, False)]"
      ]
    },
    {
      "cell_type": "code",
      "execution_count": 21,
      "metadata": {
        "id": "0EUyjMdp7yfh"
      },
      "outputs": [
        {
          "name": "stdout",
          "output_type": "stream",
          "text": [
            "[(0, True), (1, False), (2, None), (3, False), (4, True)]\n"
          ]
        }
      ],
      "source": [
        "lst = [True, False, None, False, True]\n",
        "lst2 = []\n",
        "i = 0\n",
        "for val in lst:\n",
        "    lst2.append((i, val))\n",
        "    i += 1\n",
        "print(lst2)"
      ]
    },
    {
      "cell_type": "markdown",
      "metadata": {
        "id": "-6XUqlcG7zKs"
      },
      "source": [
        "10. Створіть словник, де ключі - назви книжок, а значення - їхня кількість у наявності в Вашій міні-бібліотеці. Бібліотека має містити щонайменше 6 книжок (6 пар значень у словнику) і щонайбільше 10 (пар значень). Використовуючи цикли, оновіть словник (не створюйте новий) так, щоби кількість книг у наявності збільшилося на 5 кожної книги. Наприклад,\n",
        "{'It': 3, 'Fault stars': 10, 'Bible': 17, 'Psychological romance': 4, 'Harry Potter': 13} -> {'It': 8, 'Fault stars': 15, 'Bible': 22, 'Psychological romance': 9, 'Harry Potter': 18}"
      ]
    },
    {
      "cell_type": "code",
      "execution_count": 22,
      "metadata": {
        "id": "Ceoj9wwb791q"
      },
      "outputs": [
        {
          "name": "stdout",
          "output_type": "stream",
          "text": [
            "{'Pet Cemetery': 10, 'Lord of the Rings': 5, 'It': 8, 'Fault stars': 15, 'Bible': 22, 'Psychological romance': 9, 'Harry Potter': 18}\n"
          ]
        }
      ],
      "source": [
        "library = {'Pet Cemetery': 5,'Lord of the Rings': 0, 'It': 3, 'Fault stars': 10, 'Bible': 17, 'Psychological romance': 4, 'Harry Potter': 13}\n",
        "for book, copies in library.items():\n",
        "    library[book] = copies + 5\n",
        "\n",
        "print(library)\n"
      ]
    },
    {
      "cell_type": "markdown",
      "metadata": {
        "id": "QLzyJM288AC7"
      },
      "source": [
        "11. Визначте цілочислену змінну n, що належить проміжку від 4 до 10 включно. Використовуючи цикли, виведіть в консоль наступний патерн.\n",
        "\n",
        "#\n",
        "##\n",
        "###\n",
        "####\n",
        "\n",
        "... #*n\n"
      ]
    },
    {
      "cell_type": "code",
      "execution_count": 24,
      "metadata": {
        "id": "KOpng87s8Duz"
      },
      "outputs": [
        {
          "name": "stdout",
          "output_type": "stream",
          "text": [
            "#\n",
            "##\n",
            "###\n",
            "####\n",
            "#####\n",
            "######\n",
            "#######\n",
            "########\n",
            "#########\n",
            "##########\n"
          ]
        }
      ],
      "source": [
        "n = 10\n",
        "for i in range(1, n + 1):\n",
        "    print('#' * i)"
      ]
    },
    {
      "cell_type": "markdown",
      "metadata": {
        "id": "_bd-bqAT8EHn"
      },
      "source": [
        "12. Гра \"Нумо вгадай\".\n",
        "Розробіть просту гру, де користувач має вгадати випадкове число від 1 до 100. Для генерації випадкового числа використовуйте функцію random.randint(a, b) (тут a та b включно). Для отримання числа з консолі використовуйте функцію input(), результат якої обовʼязково явно приведіть до типу int.\n",
        "\n",
        "Підказка: використовуйте цикл while та умови if-else, щоб повідомити користувачу піказки (напр. \"Більше\", \"Менше\") поки користувач не вгадає. По завершенню виведіть кількість спроб, які знадобилися для вгадування."
      ]
    },
    {
      "cell_type": "code",
      "execution_count": 1,
      "metadata": {
        "id": "IK9nnxFK8Hkl"
      },
      "outputs": [],
      "source": [
        "import random\n",
        "\n",
        "n = random.randint(1, 100)\n",
        "tries = 0\n",
        "\n",
        "while True:\n",
        "    guess = int(input('Enter a number: '))\n",
        "    tries += 1\n",
        "    if guess == n:\n",
        "        print(f'Ви вгадали число за {tries} разів')\n",
        "        break\n",
        "    elif guess < n:\n",
        "        print('Менше')\n",
        "    else:\n",
        "        print('Більше')"
      ]
    }
  ],
  "metadata": {
    "colab": {
      "provenance": []
    },
    "kernelspec": {
      "display_name": "Python 3",
      "name": "python3"
    },
    "language_info": {
      "codemirror_mode": {
        "name": "ipython",
        "version": 3
      },
      "file_extension": ".py",
      "mimetype": "text/x-python",
      "name": "python",
      "nbconvert_exporter": "python",
      "pygments_lexer": "ipython3",
      "version": "3.11.3"
    }
  },
  "nbformat": 4,
  "nbformat_minor": 0
}
