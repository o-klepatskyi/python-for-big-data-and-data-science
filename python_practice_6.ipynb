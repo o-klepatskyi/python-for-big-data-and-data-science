{
  "cells": [
    {
      "cell_type": "markdown",
      "metadata": {
        "id": "5qvkYXU42nND"
      },
      "source": [
        "# I. Docstrings."
      ]
    },
    {
      "cell_type": "markdown",
      "metadata": {
        "id": "7VUggLjZ4NNb"
      },
      "source": [
        "1. Що таке docstrings? Навіщо вони потрібні?"
      ]
    },
    {
      "cell_type": "markdown",
      "metadata": {
        "id": "_oqTO_30GlHj"
      },
      "source": [
        "docstrings - це текст, який документує частину коду (модуль, клас, метод тощо), наприклад, для функції: які вхідні та вихідні параметри цієї функції (та їх обмеження), які помилки функція викидає у разі помилки, яке її призначення"
      ]
    },
    {
      "cell_type": "markdown",
      "metadata": {
        "id": "bRumAhtgG3jV"
      },
      "source": [
        "2. Створіть docstrings для функції, що розраховує суму двох цілих чисел та повертає їхню суму."
      ]
    },
    {
      "cell_type": "code",
      "execution_count": 6,
      "metadata": {
        "id": "G_xCtwQGGkew"
      },
      "outputs": [
        {
          "data": {
            "text/plain": [
              "'\\nAdd two integer numbers and return the result.\\n\\nParameters:\\na (int): The first number.\\nb (int): The second number.\\n\\nReturns:\\nint: The sum of a and b.\\n'"
            ]
          },
          "execution_count": 6,
          "metadata": {},
          "output_type": "execute_result"
        }
      ],
      "source": [
        "\"\"\"\n",
        "Add two integer numbers and return the result.\n",
        "\n",
        "Args:\n",
        "    a (int): The first number.\n",
        "    b (int): The second number.\n",
        "\n",
        "Returns:\n",
        "    int: The sum of a and b.\n",
        "\"\"\""
      ]
    },
    {
      "cell_type": "markdown",
      "metadata": {
        "id": "gibK8CjDHBfc"
      },
      "source": [
        "3. Визначте функцію, що розраховує суму двох цілих чисел та повертає їхню суму, використовуючи документацію з завдання 2."
      ]
    },
    {
      "cell_type": "code",
      "execution_count": 5,
      "metadata": {
        "id": "wh5tMJgh0zer"
      },
      "outputs": [
        {
          "name": "stdout",
          "output_type": "stream",
          "text": [
            "\n",
            "    Add two integer numbers and return the result.\n",
            "\n",
            "    Parameters:\n",
            "    a (int): The first number.\n",
            "    b (int): The second number.\n",
            "\n",
            "    Returns:\n",
            "    int: The sum of a and b.\n",
            "    \n"
          ]
        }
      ],
      "source": [
        "def add(a: int, b: int) -> int:\n",
        "    \"\"\"\n",
        "    Add two integer numbers and return the result.\n",
        "\n",
        "    Args:\n",
        "        a (int): The first number.\n",
        "        b (int): The second number.\n",
        "\n",
        "    Returns:\n",
        "        int: The sum of a and b.\n",
        "    \"\"\"\n",
        "    return a + b\n",
        "\n",
        "print(add.__doc__)"
      ]
    },
    {
      "cell_type": "markdown",
      "metadata": {
        "id": "PI-mNDQNIDUm"
      },
      "source": [
        "4. Створіть docstring для функції, що перевіряє, чи є число простим. Увага: під час виклику функції ми очікуємо, що користувач(ка) може подати на вхід будь-який тип обʼєкту. У випадку, якщо на вході не підходящий тип даних, маємо кинути помилку."
      ]
    },
    {
      "cell_type": "code",
      "execution_count": 8,
      "metadata": {
        "id": "3nTbEkJ0I4Gn"
      },
      "outputs": [
        {
          "data": {
            "text/plain": [
              "'\\nCheck if a number is prime.\\n\\nArgs:\\n    n: The number to be checked.\\n\\nReturns:\\n    bool: True if the number is prime, False otherwise.\\n\\nRaises:\\n    TypeError: If the input is not an integer.\\n'"
            ]
          },
          "execution_count": 8,
          "metadata": {},
          "output_type": "execute_result"
        }
      ],
      "source": [
        "\"\"\"\n",
        "Check if a number is prime.\n",
        "\n",
        "Args:\n",
        "    n: The number to be checked.\n",
        "\n",
        "Returns:\n",
        "    bool: True if the number is prime, False otherwise.\n",
        "\n",
        "Raises:\n",
        "    TypeError: If the input is not an integer.\n",
        "\"\"\""
      ]
    },
    {
      "cell_type": "markdown",
      "metadata": {
        "id": "OMRx9emvI4NM"
      },
      "source": [
        "5. Визначте функцію, яка перевіряє, чи є число простим, використовуючи документацію з завдання 4."
      ]
    },
    {
      "cell_type": "code",
      "execution_count": 7,
      "metadata": {
        "id": "wONHC4OEJARD"
      },
      "outputs": [],
      "source": [
        "def is_prime_number(n):\n",
        "    \"\"\"\n",
        "    Check if a number is prime.\n",
        "\n",
        "    Args:\n",
        "        n: The number to be checked.\n",
        "\n",
        "    Returns:\n",
        "        bool: True if the number is prime, False otherwise.\n",
        "\n",
        "    Raises:\n",
        "        TypeError: If the input is not an integer.\n",
        "    \"\"\"\n",
        "    if not isinstance(n, int):\n",
        "        raise TypeError(\"Input must be an integer.\")\n",
        "    \n",
        "    if n < 2:\n",
        "        return False\n",
        "    \n",
        "    for i in range(2, int(n**0.5) + 1):\n",
        "        if n % i == 0:\n",
        "            return False\n",
        "    \n",
        "    return True\n"
      ]
    },
    {
      "cell_type": "markdown",
      "metadata": {
        "id": "1r9WQ5Y9JULV"
      },
      "source": [
        "6. Створіть docstring для функції, що повертає найдовший спільний префікс двох рядків не залежно від регістру. Обовʼязково включіть два приклади згідно формату."
      ]
    },
    {
      "cell_type": "code",
      "execution_count": null,
      "metadata": {
        "id": "mqTHuBGsKY2V"
      },
      "outputs": [],
      "source": [
        "\"\"\"\n",
        "Returns the longest common prefix of two strings, regardless of case.\n",
        "\n",
        "Args:\n",
        "    str1 (str): The first string.\n",
        "    str2 (str): The second string.\n",
        "\n",
        "Returns:\n",
        "    str: The longest common prefix of the two strings.\n",
        "\n",
        "Examples:\n",
        "    >>> longest_common_prefix(\"Hello\", \"HEY\")\n",
        "    'he'\n",
        "    >>> longest_common_prefix(\"aPPle\", \"Application\")\n",
        "    'appl'\n",
        "\"\"\""
      ]
    },
    {
      "cell_type": "markdown",
      "metadata": {
        "id": "ZVkQ4jo2KZrx"
      },
      "source": [
        "7. Реалізуйте функцію згідно документації із завдання 6, використовуючи її."
      ]
    },
    {
      "cell_type": "code",
      "execution_count": 10,
      "metadata": {
        "id": "e1odBJATKd7L"
      },
      "outputs": [
        {
          "name": "stdout",
          "output_type": "stream",
          "text": [
            "he\n",
            "appl\n"
          ]
        }
      ],
      "source": [
        "def longest_common_prefix(str1, str2):\n",
        "    \"\"\"\n",
        "    Returns the longest common prefix of two strings, regardless of case.\n",
        "\n",
        "    Args:\n",
        "        str1 (str): The first string.\n",
        "        str2 (str): The second string.\n",
        "\n",
        "    Returns:\n",
        "        str: The longest common prefix of the two strings.\n",
        "\n",
        "    Examples:\n",
        "        >>> longest_common_prefix(\"Hello\", \"HEY\")\n",
        "        'he'\n",
        "        >>> longest_common_prefix(\"aPPle\", \"Application\")\n",
        "        'appl'\n",
        "    \"\"\"\n",
        "    str1 = str1.lower()\n",
        "    str2 = str2.lower()\n",
        "    \n",
        "    prefix = \"\"\n",
        "    for i in range(min(len(str1), len(str2))):\n",
        "        if str1[i] != str2[i]:\n",
        "            break\n",
        "        prefix += str1[i]\n",
        "    \n",
        "    return prefix\n",
        "\n",
        "\n",
        "print(longest_common_prefix(\"Hello\", \"HEY\"))\n",
        "print(longest_common_prefix(\"aPPle\", \"Application\"))"
      ]
    },
    {
      "cell_type": "markdown",
      "metadata": {
        "id": "OXbxPfuZKlQb"
      },
      "source": [
        "8. Створіть docstring для функції, що розраховує суму щомісячного платежу по єОселі."
      ]
    },
    {
      "cell_type": "code",
      "execution_count": null,
      "metadata": {
        "id": "iFGckfs3KqHq"
      },
      "outputs": [],
      "source": [
        "\"\"\"\n",
        "Calculate the monthly payment for a mortgage.\n",
        "\n",
        "Args:\n",
        "    area_m2 (float): The area of the property in square meters.\n",
        "    price_m2 (float): The price per square meter of the property.\n",
        "    annual_interest_rate (float): The annual interest rate for the mortgage.\n",
        "    years (int): The number of years for the mortgage.\n",
        "    down_payment_percentage (float): The percentage of the property price to be paid as a down payment.\n",
        "\n",
        "Returns:\n",
        "    float: The monthly payment amount for the mortgage.\n",
        "\"\"\""
      ]
    },
    {
      "cell_type": "markdown",
      "metadata": {
        "id": "xQjsUPhAOUq1"
      },
      "source": [
        "9. Використовуючи документацію із завдання 8, реалізуйте відповідну функцію."
      ]
    },
    {
      "cell_type": "code",
      "execution_count": 7,
      "metadata": {
        "id": "H3_FpZW7OUAA"
      },
      "outputs": [
        {
          "data": {
            "text/plain": [
              "7188.716247286434"
            ]
          },
          "execution_count": 7,
          "metadata": {},
          "output_type": "execute_result"
        }
      ],
      "source": [
        "def calculate_monthly_payment(area_m2, price_m2, annual_interest_rate, years, down_payment_percentage):\n",
        "    \"\"\"\n",
        "    Calculate the monthly payment for a mortgage.\n",
        "\n",
        "    Args:\n",
        "        area_m2 (float): The area of the property in square meters.\n",
        "        price_m2 (float): The price per square meter of the property.\n",
        "        annual_interest_rate (float): The annual interest rate for the mortgage.\n",
        "        years (int): The number of years for the mortgage.\n",
        "        down_payment_percentage (float): The percentage of the property price to be paid as a down payment.\n",
        "\n",
        "    Returns:\n",
        "        float: The monthly payment amount for the mortgage.\n",
        "    \"\"\"\n",
        "    principal = area_m2 * price_m2\n",
        "    down_payment = principal * down_payment_percentage / 100\n",
        "    adjusted_principal = principal - down_payment\n",
        "    r = annual_interest_rate / 100 / 12\n",
        "    n = years * 12\n",
        "    monthly_payment = adjusted_principal * (r * (1 + r)**n) / ((1 + r)**n - 1)\n",
        "    return monthly_payment\n",
        "\n",
        "\n",
        "monthly_payment = calculate_monthly_payment(52.5, 30862, 3, 20, 20)\n",
        "monthly_payment\n"
      ]
    },
    {
      "cell_type": "markdown",
      "metadata": {
        "id": "uPyZWU1r2q-s"
      },
      "source": [
        "# II. Errors and exceptions handling."
      ]
    },
    {
      "cell_type": "markdown",
      "metadata": {
        "id": "GJAVQ9SJbARP"
      },
      "source": [
        "10. Реалізуйте функцію, яка отримує значення зі словника за ключем та повертає його, а за умови відсутності ключа відловлює KeyError."
      ]
    },
    {
      "cell_type": "code",
      "execution_count": 8,
      "metadata": {
        "id": "01YDTgxI4IK7"
      },
      "outputs": [],
      "source": [
        "def get_value(dictionary, key):\n",
        "    try:\n",
        "        return dictionary[key]\n",
        "    except KeyError:\n",
        "        return None\n"
      ]
    },
    {
      "cell_type": "markdown",
      "metadata": {
        "id": "IwpB9_4Jbttd"
      },
      "source": [
        "11. Реалізуйте функцію із завдання 10 без відловлювання помилки, однак за допомогою конструкції if-else."
      ]
    },
    {
      "cell_type": "code",
      "execution_count": 9,
      "metadata": {
        "id": "qSEr1bCQbtC1"
      },
      "outputs": [],
      "source": [
        "def get_value(dictionary, key):\n",
        "    if key in dictionary:\n",
        "        return dictionary[key]\n",
        "    else:\n",
        "        return None\n"
      ]
    },
    {
      "cell_type": "markdown",
      "metadata": {
        "id": "H4iygP7xb7xB"
      },
      "source": [
        "12. Реалізуйте функцію з завдання 10, використовуючи метод словника, який дозволяє зробити операцію навіть без if-else."
      ]
    },
    {
      "cell_type": "code",
      "execution_count": 12,
      "metadata": {
        "id": "IjFPCfCXcFMF"
      },
      "outputs": [],
      "source": [
        "def get_value(dictionary, key):\n",
        "    return dictionary.get(key)\n"
      ]
    },
    {
      "cell_type": "markdown",
      "metadata": {
        "id": "V7UB77SvcFiH"
      },
      "source": [
        "13. Визначте функцію, яка обробляє значення, введене користувачем з терміналу, приводячи його до цілого числа. Використайте відловлення відповідної помилки. Наприклад, людина має ввести свій вік."
      ]
    },
    {
      "cell_type": "code",
      "execution_count": null,
      "metadata": {
        "id": "OEkZInsUce-g"
      },
      "outputs": [],
      "source": [
        "def process_user_input():\n",
        "    try:\n",
        "        user_input = input(\"Enter your age: \")\n",
        "        age = int(user_input)\n",
        "        return age\n",
        "    except ValueError:\n",
        "        print(\"Invalid input. Please enter a valid integer.\")\n",
        "        return None\n"
      ]
    },
    {
      "cell_type": "markdown",
      "metadata": {
        "id": "nvQo1fzjcfYI"
      },
      "source": [
        "14. Визначте функцію з завдання 13, де використайте конструкцію if-else замість відловдення помилки."
      ]
    },
    {
      "cell_type": "code",
      "execution_count": null,
      "metadata": {
        "id": "bQF8LazacpUI"
      },
      "outputs": [],
      "source": [
        "def process_user_input():\n",
        "    user_input = input(\"Enter your age: \")\n",
        "    if user_input.isdigit():\n",
        "        return int(user_input)\n",
        "    else:\n",
        "        print(\"Invalid input. Please enter a valid integer.\")\n",
        "        return None\n"
      ]
    },
    {
      "cell_type": "markdown",
      "metadata": {
        "id": "l4RoecD_dIj5"
      },
      "source": [
        "15. Визначте функцію з завдання 13, враховуючи додаткове обмеження, що число має бути у діапазоні від 18 до 120 (повнолітня людина). Відловіть відповідні типи помилок."
      ]
    },
    {
      "cell_type": "code",
      "execution_count": 13,
      "metadata": {
        "id": "SeHKtFGTdiyD"
      },
      "outputs": [],
      "source": [
        "def process_user_input():\n",
        "    try:\n",
        "        user_input = input(\"Enter your age: \")\n",
        "        age = int(user_input)\n",
        "        if age < 18 or age > 120:\n",
        "            raise ValueError\n",
        "        return age\n",
        "    except ValueError:\n",
        "        print(\"Invalid input. Please enter a valid integer.\")\n",
        "        return None\n"
      ]
    },
    {
      "cell_type": "markdown",
      "metadata": {
        "id": "MAn64KyreVC4"
      },
      "source": [
        "16. Напишіть код, який би генерував максимальну кількість помилок різного типу."
      ]
    },
    {
      "cell_type": "code",
      "execution_count": 20,
      "metadata": {
        "id": "DzuV3uQpeb-U"
      },
      "outputs": [
        {
          "ename": "TypeError",
          "evalue": "can only concatenate str (not \"int\") to str",
          "output_type": "error",
          "traceback": [
            "\u001b[1;31m---------------------------------------------------------------------------\u001b[0m",
            "\u001b[1;31mTypeError\u001b[0m                                 Traceback (most recent call last)",
            "Cell \u001b[1;32mIn[20], line 46\u001b[0m\n\u001b[0;32m     40\u001b[0m     result \u001b[38;5;241m=\u001b[39m \u001b[38;5;241m1\u001b[39m \u001b[38;5;241m/\u001b[39m \u001b[38;5;241m0\u001b[39m\n\u001b[0;32m     44\u001b[0m \u001b[38;5;66;03m# generate_errors()\u001b[39;00m\n\u001b[1;32m---> 46\u001b[0m \u001b[38;5;28mprint\u001b[39m(\u001b[38;5;124;43m\"\u001b[39;49m\u001b[38;5;124;43m5\u001b[39;49m\u001b[38;5;124;43m\"\u001b[39;49m\u001b[43m \u001b[49m\u001b[38;5;241;43m+\u001b[39;49m\u001b[43m \u001b[49m\u001b[38;5;241;43m10\u001b[39;49m)\n",
            "\u001b[1;31mTypeError\u001b[0m: can only concatenate str (not \"int\") to str"
          ]
        }
      ],
      "source": [
        "def generate_errors():\n",
        "    # RecursionError\n",
        "    def infinite_recursion():\n",
        "        infinite_recursion()\n",
        "    \n",
        "    infinite_recursion()\n",
        "    \n",
        "    # NameError\n",
        "    print(undefined_variable)\n",
        "    \n",
        "    # TypeError\n",
        "    print(\"5\" + 10)\n",
        "    \n",
        "    # IndexError\n",
        "    my_list = [1, 2, 3]\n",
        "    print(my_list[4])\n",
        "    \n",
        "    # KeyError\n",
        "    my_dict = {\"key\": \"value\"}\n",
        "    print(my_dict[\"nonexistent_key\"])\n",
        "    \n",
        "    # AttributeError\n",
        "    my_string = \"Hello\"\n",
        "    print(my_string.nonexistent_method())\n",
        "    \n",
        "    # FileNotFoundError\n",
        "    with open(\"nonexistent_file.txt\", \"r\") as file:\n",
        "        print(file.read())\n",
        "    \n",
        "    # ValueError\n",
        "    int(\"abc\")\n",
        "    \n",
        "    # AssertionError\n",
        "    assert 2 + 2 == 5\n",
        "    \n",
        "    # SyntaxError\n",
        "    eval(\"print('Hello'\")\n",
        "    \n",
        "    # ZeroDivisionError\n",
        "    result = 1 / 0\n",
        "    \n",
        "\n",
        "\n",
        "generate_errors()"
      ]
    },
    {
      "cell_type": "markdown",
      "metadata": {
        "id": "5VFbEKQkecMz"
      },
      "source": [
        "17. Наскільки це можливо, виправте код із завдання 16."
      ]
    },
    {
      "cell_type": "code",
      "execution_count": 22,
      "metadata": {
        "id": "peMOBz9ieiur"
      },
      "outputs": [
        {
          "name": "stdout",
          "output_type": "stream",
          "text": [
            "RecursionError occurred.\n",
            "NameError occurred.\n",
            "TypeError occurred.\n",
            "IndexError occurred.\n",
            "KeyError occurred.\n",
            "AttributeError occurred.\n",
            "FileNotFoundError occurred.\n",
            "ValueError occurred.\n",
            "AssertionError occurred.\n",
            "SyntaxError occurred.\n",
            "ZeroDivisionError occurred.\n"
          ]
        }
      ],
      "source": [
        "def generate_errors():\n",
        "    try:\n",
        "        def infinite_recursion():\n",
        "            infinite_recursion()\n",
        "\n",
        "        infinite_recursion()\n",
        "    except RecursionError:\n",
        "        print(\"RecursionError occurred.\")\n",
        "\n",
        "    try:\n",
        "        print(undefined_variable)\n",
        "    except NameError:\n",
        "        print(\"NameError occurred.\")\n",
        "\n",
        "    try:\n",
        "        print(\"5\" + 10)\n",
        "    except TypeError:\n",
        "        print(\"TypeError occurred.\")\n",
        "\n",
        "    try:\n",
        "        my_list = [1, 2, 3]\n",
        "        print(my_list[4])\n",
        "    except IndexError:\n",
        "        print(\"IndexError occurred.\")\n",
        "\n",
        "    try:\n",
        "        my_dict = {\"key\": \"value\"}\n",
        "        print(my_dict[\"nonexistent_key\"])\n",
        "    except KeyError:\n",
        "        print(\"KeyError occurred.\")\n",
        "\n",
        "    try:\n",
        "        my_string = \"Hello\"\n",
        "        print(my_string.nonexistent_method())\n",
        "    except AttributeError:\n",
        "        print(\"AttributeError occurred.\")\n",
        "\n",
        "    try:\n",
        "        with open(\"nonexistent_file.txt\", \"r\") as file:\n",
        "            print(file.read())\n",
        "    except FileNotFoundError:\n",
        "        print(\"FileNotFoundError occurred.\")\n",
        "\n",
        "    try:\n",
        "        int(\"abc\")\n",
        "    except ValueError:\n",
        "        print(\"ValueError occurred.\")\n",
        "\n",
        "    try:\n",
        "        assert 2 + 2 == 5\n",
        "    except AssertionError:\n",
        "        print(\"AssertionError occurred.\")\n",
        "\n",
        "    try:\n",
        "        eval(\"print('Hello'\")\n",
        "    except SyntaxError:\n",
        "        print(\"SyntaxError occurred.\")\n",
        "\n",
        "    try:\n",
        "        result = 1 / 0\n",
        "    except ZeroDivisionError:\n",
        "        print(\"ZeroDivisionError occurred.\")\n",
        "\n",
        "\n",
        "generate_errors()"
      ]
    }
  ],
  "metadata": {
    "colab": {
      "provenance": []
    },
    "kernelspec": {
      "display_name": "Python 3",
      "name": "python3"
    },
    "language_info": {
      "codemirror_mode": {
        "name": "ipython",
        "version": 3
      },
      "file_extension": ".py",
      "mimetype": "text/x-python",
      "name": "python",
      "nbconvert_exporter": "python",
      "pygments_lexer": "ipython3",
      "version": "3.11.3"
    }
  },
  "nbformat": 4,
  "nbformat_minor": 0
}
