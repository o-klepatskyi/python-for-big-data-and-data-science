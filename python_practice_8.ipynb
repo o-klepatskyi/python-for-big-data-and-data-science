{
  "cells": [
    {
      "cell_type": "markdown",
      "metadata": {
        "id": "UfI7FZudfGwv"
      },
      "source": [
        "# I. NumPy."
      ]
    },
    {
      "cell_type": "markdown",
      "metadata": {
        "id": "fQcvdlwdimQb"
      },
      "source": [
        "**При реалізації завдань потрібно використовувати методи з бібліотеки numpy.**\n",
        "\n",
        "**Рішення з циклами будуть оцінені в 0 балів.**"
      ]
    },
    {
      "cell_type": "markdown",
      "metadata": {
        "id": "XmA3PWg8fJxn"
      },
      "source": [
        "1. (2б) Імпортувати numpy загальноприйнятим способом."
      ]
    },
    {
      "cell_type": "code",
      "execution_count": 1,
      "metadata": {
        "id": "JUli5tR8eTXG"
      },
      "outputs": [],
      "source": [
        "import numpy as np"
      ]
    },
    {
      "cell_type": "markdown",
      "metadata": {
        "id": "fppWPwoFjTrl"
      },
      "source": [
        "2. (3б) Визначити список з оцінками студента(ки) за семестр. Використовуючи його, створити одновимірний масив numpy."
      ]
    },
    {
      "cell_type": "code",
      "execution_count": 2,
      "metadata": {
        "id": "cuvs9lNAjVoB"
      },
      "outputs": [
        {
          "data": {
            "text/plain": [
              "array([85, 90, 78, 92, 88])"
            ]
          },
          "execution_count": 2,
          "metadata": {},
          "output_type": "execute_result"
        }
      ],
      "source": [
        "grades = [85, 90, 78, 92, 88]\n",
        "grades_array = np.array(grades)\n",
        "\n",
        "grades_array"
      ]
    },
    {
      "cell_type": "markdown",
      "metadata": {
        "id": "OGeLtAwcjcMB"
      },
      "source": [
        "3. (4б) Визначити список зі списками, де кожен рядок списку формально означає магазин, а кожна колонка - певний продукт (батон, яйця першої категорії, молоко та ковбаса), а елементами на пересічі є ціни на ці продукти відповідно. Використовуючи цей список, створити матрицю (двовимірний масив) numpy."
      ]
    },
    {
      "cell_type": "markdown",
      "metadata": {},
      "source": []
    },
    {
      "cell_type": "code",
      "execution_count": 3,
      "metadata": {
        "id": "zJ9kEAv5jcVo"
      },
      "outputs": [
        {
          "data": {
            "text/plain": [
              "array([[2.5, 3. , 1.8, 5.5],\n",
              "       [2. , 2.5, 1.5, 4.5],\n",
              "       [2.2, 2.8, 1.6, 5. ]])"
            ]
          },
          "execution_count": 3,
          "metadata": {},
          "output_type": "execute_result"
        }
      ],
      "source": [
        "price_list = [\n",
        "    [2.5, 3.0, 1.8, 5.5],\n",
        "    [2.0, 2.5, 1.5, 4.5],\n",
        "    [2.2, 2.8, 1.6, 5.0]\n",
        "]\n",
        "\n",
        "price_matrix = np.array(price_list)\n",
        "price_matrix"
      ]
    },
    {
      "cell_type": "markdown",
      "metadata": {
        "id": "wK7wrEw2jcix"
      },
      "source": [
        "4. (3б) Отримайте тип даних значень з масивів завдань 2 та 3. Виведіть їх на екран."
      ]
    },
    {
      "cell_type": "code",
      "execution_count": 4,
      "metadata": {},
      "outputs": [
        {
          "name": "stdout",
          "output_type": "stream",
          "text": [
            "int32\n",
            "float64\n"
          ]
        }
      ],
      "source": [
        "print(grades_array.dtype)\n",
        "print(price_matrix.dtype)"
      ]
    },
    {
      "cell_type": "markdown",
      "metadata": {
        "id": "nNhAgsC3jcyp"
      },
      "source": [
        "5. (3б) Отримайте форми (кортеж з кількістю рядків та колонок) масивів завдань 2 та 3. Виведіть їх на екран."
      ]
    },
    {
      "cell_type": "code",
      "execution_count": 6,
      "metadata": {
        "id": "Fi5oXTI8jc4-"
      },
      "outputs": [
        {
          "name": "stdout",
          "output_type": "stream",
          "text": [
            "Shape of grades_array: (5,)\n",
            "Shape of price_matrix: (3, 4)\n"
          ]
        }
      ],
      "source": [
        "print(\"Shape of grades_array:\", grades_array.shape)\n",
        "print(\"Shape of price_matrix:\", price_matrix.shape)\n"
      ]
    },
    {
      "cell_type": "markdown",
      "metadata": {
        "id": "xYWQt0nwjc_i"
      },
      "source": [
        "6. (5б) Поясніть, чому для масиву із завдання 2 ми отримали саме такий результат. На основі того ж самого масиву з цілими числами-оцінками створіть вектор-стовбець (не вектор-рядок!)."
      ]
    },
    {
      "cell_type": "markdown",
      "metadata": {
        "id": "9IKiIbDBlF8S"
      },
      "source": [
        "Властивість shape завжди повертає кортеж, у випадку одновимірного масиву це кортеж з одним елементом - розміром цього масиву."
      ]
    },
    {
      "cell_type": "code",
      "execution_count": 9,
      "metadata": {
        "id": "BHzbXm1bjdFa"
      },
      "outputs": [
        {
          "data": {
            "text/plain": [
              "array([[85],\n",
              "       [90],\n",
              "       [78],\n",
              "       [92],\n",
              "       [88]])"
            ]
          },
          "execution_count": 9,
          "metadata": {},
          "output_type": "execute_result"
        }
      ],
      "source": [
        "column_vector = grades_array.reshape(-1, 1)\n",
        "column_vector"
      ]
    },
    {
      "cell_type": "markdown",
      "metadata": {
        "id": "ilXJhOdujdLQ"
      },
      "source": [
        "7. (6б) Тезисно поясніть різницю між Python списком та NumPy масивом."
      ]
    },
    {
      "cell_type": "markdown",
      "metadata": {
        "id": "wM6QUiR4lhP5"
      },
      "source": [
        "Numpy - це статичний масив, python список - динамічний.\n",
        "Масив numpy підтримує індексування елементів, як і списки, але існують векторизовані функції (швидший аналог map для списків).\n",
        "Також у масивах numpy зберігається лише один тип даних, у списках можуть бути об'єкти різних типів."
      ]
    },
    {
      "cell_type": "markdown",
      "metadata": {
        "id": "bpY-N8QZjdW-"
      },
      "source": [
        "8. (7б) Створіть одновимірний масив за допомогою спеціальної функції numpy, який би відображав динаміку стабільно зростаючого (з рівними проміжками) прибутку з продажів  за тиждень, де у перший день не було продажів, а в останній день тижня вдалося заробити 1000 грн 50 коп."
      ]
    },
    {
      "cell_type": "code",
      "execution_count": 10,
      "metadata": {
        "id": "r3LcjnUKjdeu"
      },
      "outputs": [
        {
          "data": {
            "text/plain": [
              "array([   0.  ,  166.75,  333.5 ,  500.25,  667.  ,  833.75, 1000.5 ])"
            ]
          },
          "execution_count": 10,
          "metadata": {},
          "output_type": "execute_result"
        }
      ],
      "source": [
        "import numpy as np\n",
        "\n",
        "revenue = np.linspace(0, 1000.50, num=7)\n",
        "revenue\n"
      ]
    },
    {
      "cell_type": "markdown",
      "metadata": {
        "id": "zQM0SY9jjebO"
      },
      "source": [
        "9. (8б) Створіть два масиви. Використовуючи їх, продемонструйте відмінність вертикального та горизонтального обʼєднання масивів."
      ]
    },
    {
      "cell_type": "code",
      "execution_count": 20,
      "metadata": {
        "id": "8uoi0_lxjeh-"
      },
      "outputs": [
        {
          "name": "stdout",
          "output_type": "stream",
          "text": [
            "Vertical concatenation:\n",
            "[[1 2 3]\n",
            " [4 5 6]]\n",
            "Horizontal concatenation:\n",
            "[[1 2 3 4 5 6]]\n"
          ]
        }
      ],
      "source": [
        "import numpy as np\n",
        "\n",
        "# Create two arrays\n",
        "array1 = np.array([[1, 2, 3]])\n",
        "array2 = np.array([[4, 5, 6]])\n",
        "\n",
        "vertical_concatenation = np.concatenate((array1, array2), axis=0)\n",
        "print(\"Vertical concatenation:\")\n",
        "print(vertical_concatenation)\n",
        "\n",
        "horizontal_concatenation = np.concatenate((array1, array2), axis=1)\n",
        "print(\"Horizontal concatenation:\")\n",
        "print(horizontal_concatenation)"
      ]
    },
    {
      "cell_type": "markdown",
      "metadata": {
        "id": "Fwh5D1pDm3t7"
      },
      "source": [
        "10. (12б) Визначити функцію, яка приймає на вході масив і транспонує його. Скористайтесь методом reshape. І не забудьте почати з docstrings."
      ]
    },
    {
      "cell_type": "code",
      "execution_count": 31,
      "metadata": {
        "id": "FSWZq0mkm31Z"
      },
      "outputs": [
        {
          "data": {
            "text/plain": [
              "array([[1, 2],\n",
              "       [3, 4],\n",
              "       [5, 6]])"
            ]
          },
          "execution_count": 31,
          "metadata": {},
          "output_type": "execute_result"
        }
      ],
      "source": [
        "def transpose_array(arr):\n",
        "    \"\"\"\n",
        "    Transposes the input array using the reshape method.\n",
        "\n",
        "    Parameters:\n",
        "    arr (numpy.ndarray): The input array.\n",
        "\n",
        "    Returns:\n",
        "    numpy.ndarray: The transposed array.\n",
        "    \"\"\"\n",
        "    return np.reshape(arr, (arr.shape[1], arr.shape[0]))\n",
        "\n",
        "transpose_array(np.array([[1, 2, 3], [4, 5, 6]]))"
      ]
    },
    {
      "cell_type": "markdown",
      "metadata": {
        "id": "Nnxk8vqYm379"
      },
      "source": [
        "11. (7б) Створіть два масиви. Використовучи ці масиви, продемонструйте 1) операцію по-елементного додавання, 2) операцію по-елементного віднімання, 3) множення масиву на число, 4) операцію по-елементного множення, і 5) матричного множення."
      ]
    },
    {
      "cell_type": "code",
      "execution_count": 34,
      "metadata": {
        "id": "qO1rfvmVm4BI"
      },
      "outputs": [
        {
          "name": "stdout",
          "output_type": "stream",
          "text": [
            "Element-wise addition:\n",
            "[5 7 9]\n",
            "Element-wise subtraction:\n",
            "[-3 -3 -3]\n",
            "Multiplication of array by a number:\n",
            "[2 4 6]\n",
            "Element-wise multiplication:\n",
            "[ 4 10 18]\n",
            "Matrix multiplication:\n",
            "32\n"
          ]
        }
      ],
      "source": [
        "array1 = np.array([1, 2, 3])\n",
        "array2 = np.array([4, 5, 6])\n",
        "\n",
        "addition_result = array1 + array2\n",
        "print(\"Element-wise addition:\")\n",
        "print(addition_result)\n",
        "\n",
        "subtraction_result = array1 - array2\n",
        "print(\"Element-wise subtraction:\")\n",
        "print(subtraction_result)\n",
        "\n",
        "number = 2\n",
        "multiplication_result = array1 * number\n",
        "print(\"Multiplication of array by a number:\")\n",
        "print(multiplication_result)\n",
        "\n",
        "elementwise_multiplication_result = array1 * array2\n",
        "print(\"Element-wise multiplication:\")\n",
        "print(elementwise_multiplication_result)\n",
        "\n",
        "matrix_multiplication_result = np.dot(array1, array2)\n",
        "print(\"Matrix multiplication:\")\n",
        "print(matrix_multiplication_result)\n"
      ]
    },
    {
      "cell_type": "markdown",
      "metadata": {
        "id": "7aGdszTGuMCC"
      },
      "source": [
        "12. (7б) Створіть двовимірний масив (матрицю) та розрахуйте: 1) мінімальне число, 2) максимальне число, 3) суму чисел, 4) мінімальні числа для кожного рядка, 5) максимальні числа для кожного стовпчика."
      ]
    },
    {
      "cell_type": "code",
      "execution_count": 38,
      "metadata": {
        "id": "RL_39YdauMKS"
      },
      "outputs": [
        {
          "data": {
            "text/plain": [
              "(1, 12, 78, array([ 1,  4,  7, 10]), array([10, 11, 12]))"
            ]
          },
          "execution_count": 38,
          "metadata": {},
          "output_type": "execute_result"
        }
      ],
      "source": [
        "matrix = np.array([[1, 2, 3], [4, 5, 6], [7, 8, 9], [10,11,12]])\n",
        "\n",
        "minimum = np.min(matrix)\n",
        "\n",
        "maximum = np.max(matrix)\n",
        "\n",
        "sum_of_numbers = np.sum(matrix)\n",
        "\n",
        "minimum_per_row = np.min(matrix, axis=1)\n",
        "\n",
        "maximum_per_column = np.max(matrix, axis=0)\n",
        "\n",
        "minimum, maximum, sum_of_numbers, minimum_per_row, maximum_per_column\n"
      ]
    },
    {
      "cell_type": "markdown",
      "metadata": {
        "id": "uvyeF79RuMQz"
      },
      "source": [
        "13. (6б) Використовуючи двовимірний масив з попереднього завдання, отримайте значення першого та другого стовпчика всіх рядків, окрім першого та останнього."
      ]
    },
    {
      "cell_type": "code",
      "execution_count": 39,
      "metadata": {
        "id": "NH6zBoNhuMWp"
      },
      "outputs": [
        {
          "data": {
            "text/plain": [
              "array([[4, 5],\n",
              "       [7, 8]])"
            ]
          },
          "execution_count": 39,
          "metadata": {},
          "output_type": "execute_result"
        }
      ],
      "source": [
        "selected_columns = matrix[1:-1, :2]\n",
        "selected_columns\n"
      ]
    },
    {
      "cell_type": "markdown",
      "metadata": {
        "id": "g3DK8A3YuMcE"
      },
      "source": [
        "14. (7б) Створіть матрицю , де деякі елементи повторюються. Знайдіть унікальні значення елементів цієї матриці та їхні частоти."
      ]
    },
    {
      "cell_type": "code",
      "execution_count": 40,
      "metadata": {
        "id": "n4qUDEBPuMhO"
      },
      "outputs": [
        {
          "name": "stdout",
          "output_type": "stream",
          "text": [
            "Value: 1, Frequency: 2\n",
            "Value: 2, Frequency: 2\n",
            "Value: 3, Frequency: 2\n",
            "Value: 4, Frequency: 2\n",
            "Value: 5, Frequency: 2\n",
            "Value: 6, Frequency: 2\n"
          ]
        }
      ],
      "source": [
        "matrix = np.array([[1, 2, 3], [4, 5, 6], [1, 2, 3], [4, 5, 6]])\n",
        "\n",
        "\n",
        "unique_values, frequencies = np.unique(matrix, return_counts=True)\n",
        "\n",
        "for value, frequency in zip(unique_values, frequencies):\n",
        "    print(f\"Value: {value}, Frequency: {frequency}\")\n"
      ]
    },
    {
      "cell_type": "markdown",
      "metadata": {
        "id": "yE0_eoYOD0so"
      },
      "source": [
        "15. (20б) Тривимірні масиви (тензори) дуже широко використовуються для вирішення задач компʼютерного зору, де один вимір відповідає за висоту зображення у пікселях, другий - за ширину зображення у пікселях, а третій - RGB шар. Значення такого масиву зазвичай знаходяться у проміжку від 0 до 255, що є позначенням для інтенсивності того чи іншого кольору (див. зображення нижче). Пропоную вам, маючи знання з numpy, торкнутись до світу роботи з особливим типом даних - зображеннями. Сподіваюсь, когось з вас це зацікавить.\n",
        "\n",
        "Завдання:\n",
        "1. Визначити змінні для висоти та ширини майбутнього зображення. Присвоїти їм значення 480 та 720 відповідно.\n",
        "2. Визначте змінну для зображення, яка прийматиме тривимірний масив відповідного розміру з пустими значеннями, які ми заповнимо пізніше. Тип даних масиву вкажіть np.uint8 (це спеціальний тип даних для шкали пікселів зображень).\n",
        "3. Розділимо зображення навпіл по висоті. Для цього обчисліть серединний піксель та збережіть його у змінну. Будьте уважні, це число буде використовуватися для слайсингу, де крайні значення не включаються у діапазон.\n",
        "4. Розфарбуємо верхню частину зображення. За допомогою слайсингу на змінній з зображенням, виділіть першу половину пікселів по висоті, залишаючи всі пікселі в рядках по ширині та глибині (всі 3 RGB шари). Та призначте їй кортеж (0, 87, 184), що позначає колір у трьох RGB шарах відповідно.\n",
        "5. Тепер розфарбуємо нижню частину зображення. За допомогою слайсингу на змінній з зображенням, виділіть другу половину пікселів по висоті, залишаючи всі пікселі в рядках по ширині та глибині (всі 3 RGB шари). Та призначте їй кортеж (255, 215, 0), що позначає колір у трьох RGB шарах відповідно. Вже здогадуєтесь, що за зображення ви створюєте?)\n",
        "6. На останньому рядку комірки просто введіть назву змінної з зображенням.\n",
        "\n",
        "\n",
        "![текст посилання](https://drive.google.com/uc?id=15vio4RLXdoRDKvulHvpk7u9RQxbe_qXL)\n",
        "\n",
        "![текст посилання](https://drive.google.com/uc?id=1c7Z9yxNgFoMYFXUmmzNEd9cJDZE2TWov)\n",
        "\n",
        "![текст посилання](https://drive.google.com/uc?id=1d9bT_fqbxCV7_b8c8Cbx2KEGVJUKenqh)\n",
        "\n",
        "![текст посилання](https://drive.google.com/uc?id=16r2XB6MO-E9dltIqsbumtoIQhkRfsbZ_)\n"
      ]
    },
    {
      "cell_type": "code",
      "execution_count": 42,
      "metadata": {
        "id": "QFn38NTNuMsr"
      },
      "outputs": [
        {
          "data": {
            "text/plain": [
              "array([[[  0,  87, 184],\n",
              "        [  0,  87, 184],\n",
              "        [  0,  87, 184],\n",
              "        ...,\n",
              "        [  0,  87, 184],\n",
              "        [  0,  87, 184],\n",
              "        [  0,  87, 184]],\n",
              "\n",
              "       [[  0,  87, 184],\n",
              "        [  0,  87, 184],\n",
              "        [  0,  87, 184],\n",
              "        ...,\n",
              "        [  0,  87, 184],\n",
              "        [  0,  87, 184],\n",
              "        [  0,  87, 184]],\n",
              "\n",
              "       [[  0,  87, 184],\n",
              "        [  0,  87, 184],\n",
              "        [  0,  87, 184],\n",
              "        ...,\n",
              "        [  0,  87, 184],\n",
              "        [  0,  87, 184],\n",
              "        [  0,  87, 184]],\n",
              "\n",
              "       ...,\n",
              "\n",
              "       [[255, 215,   0],\n",
              "        [255, 215,   0],\n",
              "        [255, 215,   0],\n",
              "        ...,\n",
              "        [255, 215,   0],\n",
              "        [255, 215,   0],\n",
              "        [255, 215,   0]],\n",
              "\n",
              "       [[255, 215,   0],\n",
              "        [255, 215,   0],\n",
              "        [255, 215,   0],\n",
              "        ...,\n",
              "        [255, 215,   0],\n",
              "        [255, 215,   0],\n",
              "        [255, 215,   0]],\n",
              "\n",
              "       [[255, 215,   0],\n",
              "        [255, 215,   0],\n",
              "        [255, 215,   0],\n",
              "        ...,\n",
              "        [255, 215,   0],\n",
              "        [255, 215,   0],\n",
              "        [255, 215,   0]]], dtype=uint8)"
            ]
          },
          "execution_count": 42,
          "metadata": {},
          "output_type": "execute_result"
        }
      ],
      "source": [
        "height = 480\n",
        "width = 720\n",
        "\n",
        "image = np.empty((height, width, 3), dtype=np.uint8)\n",
        "\n",
        "middle_pixel = height // 2\n",
        "\n",
        "image[:middle_pixel, :, :] = (0, 87, 184)\n",
        "\n",
        "image[middle_pixel:, :, :] = (255, 215, 0)\n",
        "\n",
        "image"
      ]
    },
    {
      "cell_type": "markdown",
      "metadata": {
        "id": "dwSyU2AjXwc-"
      },
      "source": [
        "# Бонус для тих, хто виконав останнє завдання."
      ]
    },
    {
      "cell_type": "markdown",
      "metadata": {
        "id": "TMtLMPzpYEf_"
      },
      "source": [
        "Слава Україні! 🇺🇦"
      ]
    }
  ],
  "metadata": {
    "colab": {
      "collapsed_sections": [
        "dwSyU2AjXwc-"
      ],
      "provenance": []
    },
    "kernelspec": {
      "display_name": "Python 3",
      "name": "python3"
    },
    "language_info": {
      "codemirror_mode": {
        "name": "ipython",
        "version": 3
      },
      "file_extension": ".py",
      "mimetype": "text/x-python",
      "name": "python",
      "nbconvert_exporter": "python",
      "pygments_lexer": "ipython3",
      "version": "3.11.3"
    }
  },
  "nbformat": 4,
  "nbformat_minor": 0
}
